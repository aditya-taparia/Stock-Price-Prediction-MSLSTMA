{
 "cells": [
  {
   "attachments": {},
   "cell_type": "markdown",
   "metadata": {},
   "source": [
    "## Importing Libraries"
   ]
  },
  {
   "cell_type": "code",
   "execution_count": 1,
   "metadata": {},
   "outputs": [],
   "source": [
    "import yfinance as yf\n",
    "import pandas as pd\n",
    "import numpy as np\n",
    "import math\n",
    "from matplotlib import pyplot as plt\n",
    "import matplotlib.dates as mdates\n",
    "import matplotlib.patches as mpatches\n",
    "from matplotlib.lines import Line2D\n",
    "\n",
    "import tensorflow as tf\n",
    "from tensorflow import keras\n",
    "from keras.models import Sequential, Model\n",
    "from keras.layers import Dense, Dropout, LSTM, Input\n",
    "from tensorflow.python.keras.callbacks import EarlyStopping, ModelCheckpoint\n",
    "\n",
    "from sklearn.preprocessing import MinMaxScaler, StandardScaler"
   ]
  },
  {
   "attachments": {},
   "cell_type": "markdown",
   "metadata": {},
   "source": [
    "## Dataset"
   ]
  },
  {
   "attachments": {},
   "cell_type": "markdown",
   "metadata": {},
   "source": [
    "### Importing Dataset"
   ]
  },
  {
   "cell_type": "code",
   "execution_count": 2,
   "metadata": {},
   "outputs": [
    {
     "name": "stdout",
     "output_type": "stream",
     "text": [
      "[*********************100%***********************]  1 of 1 completed\n"
     ]
    },
    {
     "data": {
      "text/html": [
       "<div>\n",
       "<style scoped>\n",
       "    .dataframe tbody tr th:only-of-type {\n",
       "        vertical-align: middle;\n",
       "    }\n",
       "\n",
       "    .dataframe tbody tr th {\n",
       "        vertical-align: top;\n",
       "    }\n",
       "\n",
       "    .dataframe thead th {\n",
       "        text-align: right;\n",
       "    }\n",
       "</style>\n",
       "<table border=\"1\" class=\"dataframe\">\n",
       "  <thead>\n",
       "    <tr style=\"text-align: right;\">\n",
       "      <th></th>\n",
       "      <th>Open</th>\n",
       "      <th>High</th>\n",
       "      <th>Low</th>\n",
       "      <th>Close</th>\n",
       "      <th>Adj Close</th>\n",
       "      <th>Volume</th>\n",
       "    </tr>\n",
       "    <tr>\n",
       "      <th>Date</th>\n",
       "      <th></th>\n",
       "      <th></th>\n",
       "      <th></th>\n",
       "      <th></th>\n",
       "      <th></th>\n",
       "      <th></th>\n",
       "    </tr>\n",
       "  </thead>\n",
       "  <tbody>\n",
       "    <tr>\n",
       "      <th>1980-12-12</th>\n",
       "      <td>0.128348</td>\n",
       "      <td>0.128906</td>\n",
       "      <td>0.128348</td>\n",
       "      <td>0.128348</td>\n",
       "      <td>0.099874</td>\n",
       "      <td>469033600</td>\n",
       "    </tr>\n",
       "    <tr>\n",
       "      <th>1980-12-15</th>\n",
       "      <td>0.122210</td>\n",
       "      <td>0.122210</td>\n",
       "      <td>0.121652</td>\n",
       "      <td>0.121652</td>\n",
       "      <td>0.094663</td>\n",
       "      <td>175884800</td>\n",
       "    </tr>\n",
       "    <tr>\n",
       "      <th>1980-12-16</th>\n",
       "      <td>0.113281</td>\n",
       "      <td>0.113281</td>\n",
       "      <td>0.112723</td>\n",
       "      <td>0.112723</td>\n",
       "      <td>0.087715</td>\n",
       "      <td>105728000</td>\n",
       "    </tr>\n",
       "    <tr>\n",
       "      <th>1980-12-17</th>\n",
       "      <td>0.115513</td>\n",
       "      <td>0.116071</td>\n",
       "      <td>0.115513</td>\n",
       "      <td>0.115513</td>\n",
       "      <td>0.089886</td>\n",
       "      <td>86441600</td>\n",
       "    </tr>\n",
       "    <tr>\n",
       "      <th>1980-12-18</th>\n",
       "      <td>0.118862</td>\n",
       "      <td>0.119420</td>\n",
       "      <td>0.118862</td>\n",
       "      <td>0.118862</td>\n",
       "      <td>0.092492</td>\n",
       "      <td>73449600</td>\n",
       "    </tr>\n",
       "  </tbody>\n",
       "</table>\n",
       "</div>"
      ],
      "text/plain": [
       "                Open      High       Low     Close  Adj Close     Volume\n",
       "Date                                                                    \n",
       "1980-12-12  0.128348  0.128906  0.128348  0.128348   0.099874  469033600\n",
       "1980-12-15  0.122210  0.122210  0.121652  0.121652   0.094663  175884800\n",
       "1980-12-16  0.113281  0.113281  0.112723  0.112723   0.087715  105728000\n",
       "1980-12-17  0.115513  0.116071  0.115513  0.115513   0.089886   86441600\n",
       "1980-12-18  0.118862  0.119420  0.118862  0.118862   0.092492   73449600"
      ]
     },
     "execution_count": 2,
     "metadata": {},
     "output_type": "execute_result"
    }
   ],
   "source": [
    "# Downloading the data\n",
    "aapl_df = yf.download('AAPL')\n",
    "aapl_df.head()"
   ]
  },
  {
   "attachments": {},
   "cell_type": "markdown",
   "metadata": {},
   "source": [
    "### Data Preprocessing"
   ]
  },
  {
   "cell_type": "code",
   "execution_count": 3,
   "metadata": {},
   "outputs": [
    {
     "data": {
      "text/html": [
       "<div>\n",
       "<style scoped>\n",
       "    .dataframe tbody tr th:only-of-type {\n",
       "        vertical-align: middle;\n",
       "    }\n",
       "\n",
       "    .dataframe tbody tr th {\n",
       "        vertical-align: top;\n",
       "    }\n",
       "\n",
       "    .dataframe thead th {\n",
       "        text-align: right;\n",
       "    }\n",
       "</style>\n",
       "<table border=\"1\" class=\"dataframe\">\n",
       "  <thead>\n",
       "    <tr style=\"text-align: right;\">\n",
       "      <th></th>\n",
       "      <th>Open</th>\n",
       "      <th>High</th>\n",
       "      <th>Low</th>\n",
       "      <th>Close</th>\n",
       "      <th>Adj Close</th>\n",
       "      <th>Volume</th>\n",
       "      <th>Prediction</th>\n",
       "    </tr>\n",
       "    <tr>\n",
       "      <th>Date</th>\n",
       "      <th></th>\n",
       "      <th></th>\n",
       "      <th></th>\n",
       "      <th></th>\n",
       "      <th></th>\n",
       "      <th></th>\n",
       "      <th></th>\n",
       "    </tr>\n",
       "  </thead>\n",
       "  <tbody>\n",
       "    <tr>\n",
       "      <th>1980-12-12</th>\n",
       "      <td>0.128348</td>\n",
       "      <td>0.128906</td>\n",
       "      <td>0.128348</td>\n",
       "      <td>0.128348</td>\n",
       "      <td>0.099874</td>\n",
       "      <td>469033600</td>\n",
       "      <td>0.121652</td>\n",
       "    </tr>\n",
       "    <tr>\n",
       "      <th>1980-12-15</th>\n",
       "      <td>0.122210</td>\n",
       "      <td>0.122210</td>\n",
       "      <td>0.121652</td>\n",
       "      <td>0.121652</td>\n",
       "      <td>0.094663</td>\n",
       "      <td>175884800</td>\n",
       "      <td>0.112723</td>\n",
       "    </tr>\n",
       "    <tr>\n",
       "      <th>1980-12-16</th>\n",
       "      <td>0.113281</td>\n",
       "      <td>0.113281</td>\n",
       "      <td>0.112723</td>\n",
       "      <td>0.112723</td>\n",
       "      <td>0.087715</td>\n",
       "      <td>105728000</td>\n",
       "      <td>0.115513</td>\n",
       "    </tr>\n",
       "    <tr>\n",
       "      <th>1980-12-17</th>\n",
       "      <td>0.115513</td>\n",
       "      <td>0.116071</td>\n",
       "      <td>0.115513</td>\n",
       "      <td>0.115513</td>\n",
       "      <td>0.089886</td>\n",
       "      <td>86441600</td>\n",
       "      <td>0.118862</td>\n",
       "    </tr>\n",
       "    <tr>\n",
       "      <th>1980-12-18</th>\n",
       "      <td>0.118862</td>\n",
       "      <td>0.119420</td>\n",
       "      <td>0.118862</td>\n",
       "      <td>0.118862</td>\n",
       "      <td>0.092492</td>\n",
       "      <td>73449600</td>\n",
       "      <td>0.126116</td>\n",
       "    </tr>\n",
       "  </tbody>\n",
       "</table>\n",
       "</div>"
      ],
      "text/plain": [
       "                Open      High       Low     Close  Adj Close     Volume  \\\n",
       "Date                                                                       \n",
       "1980-12-12  0.128348  0.128906  0.128348  0.128348   0.099874  469033600   \n",
       "1980-12-15  0.122210  0.122210  0.121652  0.121652   0.094663  175884800   \n",
       "1980-12-16  0.113281  0.113281  0.112723  0.112723   0.087715  105728000   \n",
       "1980-12-17  0.115513  0.116071  0.115513  0.115513   0.089886   86441600   \n",
       "1980-12-18  0.118862  0.119420  0.118862  0.118862   0.092492   73449600   \n",
       "\n",
       "            Prediction  \n",
       "Date                    \n",
       "1980-12-12    0.121652  \n",
       "1980-12-15    0.112723  \n",
       "1980-12-16    0.115513  \n",
       "1980-12-17    0.118862  \n",
       "1980-12-18    0.126116  "
      ]
     },
     "execution_count": 3,
     "metadata": {},
     "output_type": "execute_result"
    }
   ],
   "source": [
    "# Adding a column 'Prediction' which is shifted by 1 day\n",
    "aapl_df['Prediction'] = aapl_df['Close'].shift(-1)\n",
    "\n",
    "# Removing NA values\n",
    "aapl_df = aapl_df.dropna()\n",
    "\n",
    "aapl_df.head()"
   ]
  },
  {
   "cell_type": "code",
   "execution_count": 4,
   "metadata": {},
   "outputs": [],
   "source": [
    "# Extract dates for the test dataset\n",
    "x_date = aapl_df.index[-math.ceil(len(aapl_df) * 0.2):]"
   ]
  },
  {
   "cell_type": "code",
   "execution_count": 5,
   "metadata": {},
   "outputs": [],
   "source": [
    "in_scaler = MinMaxScaler()\n",
    "out_scaler = MinMaxScaler()\n",
    "\n",
    "# Scaling the data\n",
    "x = in_scaler.fit_transform(aapl_df.drop(['Prediction'], axis=1))\n",
    "y = out_scaler.fit_transform(aapl_df.drop(\n",
    "    ['Open', 'High', 'Low', 'Close', 'Volume', 'Adj Close'], axis=1))\n"
   ]
  },
  {
   "attachments": {},
   "cell_type": "markdown",
   "metadata": {},
   "source": [
    "### Creating Dataset"
   ]
  },
  {
   "cell_type": "code",
   "execution_count": 6,
   "metadata": {},
   "outputs": [],
   "source": [
    "sequence_length = 42\n",
    "train_len = math.ceil(len(aapl_df) * 0.6)\n",
    "val_len = math.ceil(len(aapl_df) * 0.2)\n",
    "\n",
    "# Splitting the data into train, validation and test dataset\n",
    "x_train = x[:train_len, :]\n",
    "y_train = y[:train_len, :]\n",
    "\n",
    "x_val = x[train_len - sequence_length:train_len + val_len, :]\n",
    "y_val = y[train_len - sequence_length:train_len + val_len, :]\n",
    "\n",
    "x_test = x[train_len + val_len - sequence_length:, :]\n",
    "y_test = y[train_len + val_len - sequence_length:, :]"
   ]
  },
  {
   "cell_type": "code",
   "execution_count": 7,
   "metadata": {},
   "outputs": [],
   "source": [
    "def create_dataset(x, y, sequence_length):\n",
    "    x_data = []\n",
    "    y_data = []\n",
    "    for i in range(sequence_length, len(x)):\n",
    "        x_data.append(x[i - sequence_length:i, :])\n",
    "        y_data.append(y[i, :])\n",
    "    return np.array(x_data), np.array(y_data)\n",
    "\n",
    "# Creating the dataset\n",
    "x_train, y_train = create_dataset(x_train, y_train, sequence_length)\n",
    "x_val, y_val = create_dataset(x_val, y_val, sequence_length)\n",
    "x_test, y_test = create_dataset(x_test, y_test, sequence_length)"
   ]
  },
  {
   "attachments": {},
   "cell_type": "markdown",
   "metadata": {},
   "source": [
    "## Model Building and Training"
   ]
  },
  {
   "cell_type": "code",
   "execution_count": 8,
   "metadata": {},
   "outputs": [],
   "source": [
    "def MSLSTM():\n",
    "    model = Sequential()\n",
    "    n_neurons = x_train.shape[1] * x_train.shape[2]\n",
    "    model.add(LSTM(n_neurons, return_sequences=True,\n",
    "              input_shape=(x_train.shape[1], x_train.shape[2])))\n",
    "    model.add(LSTM(n_neurons, return_sequences=False))\n",
    "    model.add(Dense(6))\n",
    "    model.add(Dense(1))\n",
    "    model.compile(optimizer='adam', loss='mean_squared_error')\n",
    "    \n",
    "    return model"
   ]
  },
  {
   "cell_type": "code",
   "execution_count": 9,
   "metadata": {},
   "outputs": [
    {
     "name": "stdout",
     "output_type": "stream",
     "text": [
      "Model: \"sequential\"\n",
      "_________________________________________________________________\n",
      " Layer (type)                Output Shape              Param #   \n",
      "=================================================================\n",
      " lstm (LSTM)                 (None, 42, 252)           261072    \n",
      "                                                                 \n",
      " lstm_1 (LSTM)               (None, 252)               509040    \n",
      "                                                                 \n",
      " dense (Dense)               (None, 6)                 1518      \n",
      "                                                                 \n",
      " dense_1 (Dense)             (None, 1)                 7         \n",
      "                                                                 \n",
      "=================================================================\n",
      "Total params: 771,637\n",
      "Trainable params: 771,637\n",
      "Non-trainable params: 0\n",
      "_________________________________________________________________\n"
     ]
    }
   ],
   "source": [
    "model = MSLSTM()\n",
    "model.summary()"
   ]
  },
  {
   "cell_type": "code",
   "execution_count": 10,
   "metadata": {},
   "outputs": [
    {
     "name": "stdout",
     "output_type": "stream",
     "text": [
      "Epoch 1/100\n",
      "396/396 [==============================] - ETA: 0s - loss: 2.0475e-05\n",
      "Epoch 00001: val_loss improved from inf to 0.00001, saving model to ../Saved Models\\mslstm.h5\n",
      "396/396 [==============================] - 58s 133ms/step - loss: 2.0475e-05 - val_loss: 1.0583e-05\n",
      "Epoch 2/100\n",
      "396/396 [==============================] - ETA: 0s - loss: 1.0425e-07\n",
      "Epoch 00002: val_loss improved from 0.00001 to 0.00001, saving model to ../Saved Models\\mslstm.h5\n",
      "396/396 [==============================] - 52s 130ms/step - loss: 1.0425e-07 - val_loss: 9.7386e-06\n",
      "Epoch 3/100\n",
      "396/396 [==============================] - ETA: 0s - loss: 9.8274e-08\n",
      "Epoch 00003: val_loss improved from 0.00001 to 0.00001, saving model to ../Saved Models\\mslstm.h5\n",
      "396/396 [==============================] - 51s 130ms/step - loss: 9.8274e-08 - val_loss: 9.4040e-06\n",
      "Epoch 4/100\n",
      "396/396 [==============================] - ETA: 0s - loss: 1.2614e-07\n",
      "Epoch 00004: val_loss improved from 0.00001 to 0.00001, saving model to ../Saved Models\\mslstm.h5\n",
      "396/396 [==============================] - 63s 158ms/step - loss: 1.2614e-07 - val_loss: 7.4607e-06\n",
      "Epoch 5/100\n",
      "396/396 [==============================] - ETA: 0s - loss: 1.3368e-07\n",
      "Epoch 00005: val_loss improved from 0.00001 to 0.00001, saving model to ../Saved Models\\mslstm.h5\n",
      "396/396 [==============================] - 52s 132ms/step - loss: 1.3368e-07 - val_loss: 7.4366e-06\n",
      "Epoch 6/100\n",
      "396/396 [==============================] - ETA: 0s - loss: 1.3517e-07\n",
      "Epoch 00006: val_loss did not improve from 0.00001\n",
      "396/396 [==============================] - 62s 158ms/step - loss: 1.3517e-07 - val_loss: 2.0029e-05\n",
      "Epoch 7/100\n",
      "396/396 [==============================] - ETA: 0s - loss: 1.3151e-07\n",
      "Epoch 00007: val_loss improved from 0.00001 to 0.00001, saving model to ../Saved Models\\mslstm.h5\n",
      "396/396 [==============================] - 63s 158ms/step - loss: 1.3151e-07 - val_loss: 6.3324e-06\n",
      "Epoch 8/100\n",
      "396/396 [==============================] - ETA: 0s - loss: 2.1455e-07\n",
      "Epoch 00008: val_loss improved from 0.00001 to 0.00001, saving model to ../Saved Models\\mslstm.h5\n",
      "396/396 [==============================] - 63s 160ms/step - loss: 2.1455e-07 - val_loss: 5.9078e-06\n",
      "Epoch 9/100\n",
      "396/396 [==============================] - ETA: 0s - loss: 1.6681e-07\n",
      "Epoch 00009: val_loss did not improve from 0.00001\n",
      "396/396 [==============================] - 64s 162ms/step - loss: 1.6681e-07 - val_loss: 6.1192e-06\n",
      "Epoch 10/100\n",
      "396/396 [==============================] - ETA: 0s - loss: 1.4425e-07\n",
      "Epoch 00010: val_loss did not improve from 0.00001\n",
      "396/396 [==============================] - 64s 162ms/step - loss: 1.4425e-07 - val_loss: 1.2294e-05\n",
      "Epoch 11/100\n",
      "396/396 [==============================] - ETA: 0s - loss: 1.5554e-07\n",
      "Epoch 00011: val_loss did not improve from 0.00001\n",
      "396/396 [==============================] - 63s 159ms/step - loss: 1.5554e-07 - val_loss: 7.4207e-06\n",
      "Epoch 12/100\n",
      "396/396 [==============================] - ETA: 0s - loss: 2.1653e-07\n",
      "Epoch 00012: val_loss improved from 0.00001 to 0.00001, saving model to ../Saved Models\\mslstm.h5\n",
      "396/396 [==============================] - 64s 160ms/step - loss: 2.1653e-07 - val_loss: 5.7431e-06\n",
      "Epoch 13/100\n",
      "396/396 [==============================] - ETA: 0s - loss: 1.9041e-07\n",
      "Epoch 00013: val_loss improved from 0.00001 to 0.00001, saving model to ../Saved Models\\mslstm.h5\n",
      "396/396 [==============================] - 64s 162ms/step - loss: 1.9041e-07 - val_loss: 5.3854e-06\n",
      "Epoch 14/100\n",
      "396/396 [==============================] - ETA: 0s - loss: 1.4514e-07\n",
      "Epoch 00014: val_loss did not improve from 0.00001\n",
      "396/396 [==============================] - 52s 132ms/step - loss: 1.4514e-07 - val_loss: 3.1865e-05\n",
      "Epoch 15/100\n",
      "396/396 [==============================] - ETA: 0s - loss: 1.3915e-07\n",
      "Epoch 00015: val_loss did not improve from 0.00001\n",
      "396/396 [==============================] - 63s 160ms/step - loss: 1.3915e-07 - val_loss: 2.4501e-05\n",
      "Epoch 16/100\n",
      "396/396 [==============================] - ETA: 0s - loss: 1.4567e-07\n",
      "Epoch 00016: val_loss did not improve from 0.00001\n",
      "396/396 [==============================] - 64s 161ms/step - loss: 1.4567e-07 - val_loss: 3.0396e-05\n",
      "Epoch 17/100\n",
      "396/396 [==============================] - ETA: 0s - loss: 1.6417e-07\n",
      "Epoch 00017: val_loss improved from 0.00001 to 0.00000, saving model to ../Saved Models\\mslstm.h5\n",
      "396/396 [==============================] - 65s 164ms/step - loss: 1.6417e-07 - val_loss: 4.9649e-06\n",
      "Epoch 18/100\n",
      "396/396 [==============================] - ETA: 0s - loss: 1.7093e-07\n",
      "Epoch 00018: val_loss did not improve from 0.00000\n",
      "396/396 [==============================] - 64s 162ms/step - loss: 1.7093e-07 - val_loss: 6.3213e-06\n",
      "Epoch 19/100\n",
      "396/396 [==============================] - ETA: 0s - loss: 1.0159e-07\n",
      "Epoch 00019: val_loss did not improve from 0.00000\n",
      "396/396 [==============================] - 64s 161ms/step - loss: 1.0159e-07 - val_loss: 8.5933e-06\n",
      "Epoch 20/100\n",
      "396/396 [==============================] - ETA: 0s - loss: 1.1551e-07\n",
      "Epoch 00020: val_loss did not improve from 0.00000\n",
      "396/396 [==============================] - 64s 161ms/step - loss: 1.1551e-07 - val_loss: 9.0901e-06\n",
      "Epoch 21/100\n",
      "396/396 [==============================] - ETA: 0s - loss: 1.2367e-07\n",
      "Epoch 00021: val_loss improved from 0.00000 to 0.00000, saving model to ../Saved Models\\mslstm.h5\n",
      "396/396 [==============================] - 65s 164ms/step - loss: 1.2367e-07 - val_loss: 4.7847e-06\n",
      "Epoch 22/100\n",
      "396/396 [==============================] - ETA: 0s - loss: 1.5753e-07\n",
      "Epoch 00022: val_loss did not improve from 0.00000\n",
      "396/396 [==============================] - 68s 171ms/step - loss: 1.5753e-07 - val_loss: 3.0364e-05\n",
      "Epoch 23/100\n",
      "396/396 [==============================] - ETA: 0s - loss: 9.6493e-08\n",
      "Epoch 00023: val_loss did not improve from 0.00000\n",
      "396/396 [==============================] - 61s 153ms/step - loss: 9.6493e-08 - val_loss: 1.6946e-05\n",
      "Epoch 24/100\n",
      "396/396 [==============================] - ETA: 0s - loss: 1.2718e-07\n",
      "Epoch 00024: val_loss did not improve from 0.00000\n",
      "396/396 [==============================] - 64s 161ms/step - loss: 1.2718e-07 - val_loss: 8.8170e-06\n",
      "Epoch 25/100\n",
      "396/396 [==============================] - ETA: 0s - loss: 9.9868e-08\n",
      "Epoch 00025: val_loss did not improve from 0.00000\n",
      "396/396 [==============================] - 65s 164ms/step - loss: 9.9868e-08 - val_loss: 5.7698e-06\n",
      "Epoch 26/100\n",
      "396/396 [==============================] - ETA: 0s - loss: 1.1053e-07\n",
      "Epoch 00026: val_loss improved from 0.00000 to 0.00000, saving model to ../Saved Models\\mslstm.h5\n",
      "396/396 [==============================] - 62s 157ms/step - loss: 1.1053e-07 - val_loss: 4.7345e-06\n",
      "Epoch 27/100\n",
      "396/396 [==============================] - ETA: 0s - loss: 9.7570e-08\n",
      "Epoch 00027: val_loss did not improve from 0.00000\n",
      "396/396 [==============================] - 77s 195ms/step - loss: 9.7570e-08 - val_loss: 4.7681e-06\n",
      "Epoch 28/100\n",
      "396/396 [==============================] - ETA: 0s - loss: 1.1071e-07\n",
      "Epoch 00028: val_loss did not improve from 0.00000\n",
      "396/396 [==============================] - 62s 157ms/step - loss: 1.1071e-07 - val_loss: 4.8642e-06\n",
      "Epoch 29/100\n",
      "396/396 [==============================] - ETA: 0s - loss: 1.0485e-07\n",
      "Epoch 00029: val_loss did not improve from 0.00000\n",
      "396/396 [==============================] - 63s 158ms/step - loss: 1.0485e-07 - val_loss: 4.7938e-06\n",
      "Epoch 30/100\n",
      "396/396 [==============================] - ETA: 0s - loss: 8.8551e-08\n",
      "Epoch 00030: val_loss did not improve from 0.00000\n",
      "396/396 [==============================] - 63s 159ms/step - loss: 8.8551e-08 - val_loss: 8.0175e-06\n",
      "Epoch 31/100\n",
      "396/396 [==============================] - ETA: 0s - loss: 9.6726e-08\n",
      "Epoch 00031: val_loss did not improve from 0.00000\n",
      "396/396 [==============================] - 62s 156ms/step - loss: 9.6726e-08 - val_loss: 9.5670e-06\n",
      "Epoch 00031: early stopping\n"
     ]
    }
   ],
   "source": [
    "early_stopping = EarlyStopping(monitor='val_loss', patience=5, verbose=1)\n",
    "checkpoint = ModelCheckpoint('../Saved Models/mslstm.h5',\n",
    "                             monitor='val_loss', verbose=1, save_best_only=True, mode='auto')\n",
    "\n",
    "epochs = 100\n",
    "batch_size = 16\n",
    "\n",
    "history = model.fit(\n",
    "    x_train, y_train,\n",
    "    epochs=epochs,\n",
    "    batch_size=batch_size,\n",
    "    validation_data=(x_val, y_val),\n",
    "    callbacks=[early_stopping, checkpoint],\n",
    ")"
   ]
  },
  {
   "attachments": {},
   "cell_type": "markdown",
   "metadata": {},
   "source": [
    "## Model Evaluation"
   ]
  },
  {
   "cell_type": "code",
   "execution_count": 14,
   "metadata": {},
   "outputs": [],
   "source": [
    "model = MSLSTM()\n",
    "model.load_weights('../Saved Models/mslstm.h5')"
   ]
  },
  {
   "cell_type": "code",
   "execution_count": 15,
   "metadata": {},
   "outputs": [
    {
     "name": "stdout",
     "output_type": "stream",
     "text": [
      "67/67 [==============================] - 8s 94ms/step\n",
      "Mean Squared Error:  55.69941665312514\n",
      "Root Mean Squared Error:  7.463204181390533\n",
      "Mean Absolute Error:  4.318045126061029\n",
      "Mean Absolute Percentage Error:  4.1822567757577325\n"
     ]
    }
   ],
   "source": [
    "predicitons = model.predict(x_test)\n",
    "predictions = out_scaler.inverse_transform(predicitons)\n",
    "actual = out_scaler.inverse_transform(y_test)\n",
    "\n",
    "# Calculating the error\n",
    "error = predictions - actual\n",
    "mse = np.square(error).mean()\n",
    "rmse = np.sqrt(mse)\n",
    "mae = np.abs(error).mean()\n",
    "mape = np.abs(error / actual).mean() * 100\n",
    "\n",
    "# Printing the error\n",
    "print('Mean Squared Error: ', mse)\n",
    "print('Root Mean Squared Error: ', rmse)\n",
    "print('Mean Absolute Error: ', mae)\n",
    "print('Mean Absolute Percentage Error: ', mape)\n"
   ]
  },
  {
   "attachments": {},
   "cell_type": "markdown",
   "metadata": {},
   "source": [
    "## Model Prediction and Visualization"
   ]
  },
  {
   "cell_type": "code",
   "execution_count": 16,
   "metadata": {},
   "outputs": [
    {
     "data": {
      "image/png": "[encoded data removed]",
      "text/plain": [
       "<Figure size 1500x1000 with 1 Axes>"
      ]
     },
     "metadata": {},
     "output_type": "display_data"
    }
   ],
   "source": [
    "# Creating a dataframe for the predictions, actual values and residuals\n",
    "prediction_df = pd.DataFrame({'Actual': actual.flatten(\n",
    "), 'Predicted': predictions.flatten(), 'Residuals': error.flatten()}, index=x_date)\n",
    "\n",
    "# Taking data from 2019-01-01\n",
    "predictions_df = prediction_df.loc['2019-01-01':]\n",
    "\n",
    "# Plotting the data and residuals bars in the same plot\n",
    "fig, ax = plt.subplots(figsize=(15, 10))\n",
    "ax.plot(predictions_df.index,\n",
    "        predictions_df['Actual'], label='Actual', color='#FFAD46', linewidth=1.5)\n",
    "ax.plot(predictions_df.index,\n",
    "        predictions_df['Predicted'], label='Predicted', color='#4285F4', linewidth=1.5)\n",
    "\n",
    "df_sub = [\"#0F9D58\" if x >\n",
    "          0 else \"#DB4437\" for x in predictions_df[\"Residuals\"].dropna()]\n",
    "ax.bar(predictions_df.index, predictions_df['Residuals'].dropna(\n",
    "), width=3, label='Residuals', color=df_sub)\n",
    "\n",
    "ax.set_xlabel('Date')\n",
    "ax.set_ylabel('Price')\n",
    "ax.set_title('AAPL Stock Price Prediction - MSLSTM')\n",
    "\n",
    "Patch = mpatches.Patch\n",
    "legend_elements = [Line2D([0], [0], color='#FFAD46', lw=1.5, label='Actual'),\n",
    "                   Line2D([0], [0], color='#4285F4',\n",
    "                          lw=1.5, label='Predicted'),\n",
    "                   Patch(facecolor='#0F9D58', edgecolor='#0F9D58',\n",
    "                         label='Residuals - Positive'),\n",
    "                   Patch(facecolor='#DB4437', edgecolor='#DB4437', label='Residuals - Negative')]\n",
    "ax.legend(handles=legend_elements, loc='upper left')\n",
    "\n",
    "ax.grid(True)\n",
    "plt.show()\n"
   ]
  }
 ],
 "metadata": {
  "kernelspec": {
   "display_name": "Python 3 (ipykernel)",
   "language": "python",
   "name": "python3"
  },
  "language_info": {
   "codemirror_mode": {
    "name": "ipython",
    "version": 3
   },
   "file_extension": ".py",
   "mimetype": "text/x-python",
   "name": "python",
   "nbconvert_exporter": "python",
   "pygments_lexer": "ipython3",
   "version": "3.10.1"
  },
  "orig_nbformat": 4,
  "vscode": {
   "interpreter": {
    "hash": "3b005d57c90ad78e699231d98118999ab8dcb1dd37f9b859bfd5a83a170dceb3"
   }
  }
 },
 "nbformat": 4,
 "nbformat_minor": 2
}
