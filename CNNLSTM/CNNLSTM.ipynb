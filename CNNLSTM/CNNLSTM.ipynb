{
  "cells": [
    {
      "cell_type": "markdown",
      "metadata": {
        "id": "pzcqoErCHe46"
      },
      "source": [
        "## Importing Libraries"
      ]
    },
    {
      "cell_type": "code",
      "execution_count": null,
      "metadata": {
        "id": "hNYZaqmJrLQh",
        "colab": {
          "base_uri": "https://localhost:8080/"
        },
        "outputId": "919dc234-13af-4f89-dafd-6bdc53222c06"
      },
      "outputs": [
        {
          "output_type": "stream",
          "name": "stdout",
          "text": [
            "Looking in indexes: https://pypi.org/simple, https://us-python.pkg.dev/colab-wheels/public/simple/\n",
            "Requirement already satisfied: yfinance in /usr/local/lib/python3.10/dist-packages (0.2.18)\n",
            "Requirement already satisfied: pandas>=1.3.0 in /usr/local/lib/python3.10/dist-packages (from yfinance) (1.5.3)\n",
            "Requirement already satisfied: numpy>=1.16.5 in /usr/local/lib/python3.10/dist-packages (from yfinance) (1.22.4)\n",
            "Requirement already satisfied: requests>=2.26 in /usr/local/lib/python3.10/dist-packages (from yfinance) (2.27.1)\n",
            "Requirement already satisfied: multitasking>=0.0.7 in /usr/local/lib/python3.10/dist-packages (from yfinance) (0.0.11)\n",
            "Requirement already satisfied: lxml>=4.9.1 in /usr/local/lib/python3.10/dist-packages (from yfinance) (4.9.2)\n",
            "Requirement already satisfied: appdirs>=1.4.4 in /usr/local/lib/python3.10/dist-packages (from yfinance) (1.4.4)\n",
            "Requirement already satisfied: pytz>=2022.5 in /usr/local/lib/python3.10/dist-packages (from yfinance) (2022.7.1)\n",
            "Requirement already satisfied: frozendict>=2.3.4 in /usr/local/lib/python3.10/dist-packages (from yfinance) (2.3.7)\n",
            "Requirement already satisfied: cryptography>=3.3.2 in /usr/local/lib/python3.10/dist-packages (from yfinance) (40.0.2)\n",
            "Requirement already satisfied: beautifulsoup4>=4.11.1 in /usr/local/lib/python3.10/dist-packages (from yfinance) (4.11.2)\n",
            "Requirement already satisfied: html5lib>=1.1 in /usr/local/lib/python3.10/dist-packages (from yfinance) (1.1)\n",
            "Requirement already satisfied: soupsieve>1.2 in /usr/local/lib/python3.10/dist-packages (from beautifulsoup4>=4.11.1->yfinance) (2.4.1)\n",
            "Requirement already satisfied: cffi>=1.12 in /usr/local/lib/python3.10/dist-packages (from cryptography>=3.3.2->yfinance) (1.15.1)\n",
            "Requirement already satisfied: six>=1.9 in /usr/local/lib/python3.10/dist-packages (from html5lib>=1.1->yfinance) (1.16.0)\n",
            "Requirement already satisfied: webencodings in /usr/local/lib/python3.10/dist-packages (from html5lib>=1.1->yfinance) (0.5.1)\n",
            "Requirement already satisfied: python-dateutil>=2.8.1 in /usr/local/lib/python3.10/dist-packages (from pandas>=1.3.0->yfinance) (2.8.2)\n",
            "Requirement already satisfied: urllib3<1.27,>=1.21.1 in /usr/local/lib/python3.10/dist-packages (from requests>=2.26->yfinance) (1.26.15)\n",
            "Requirement already satisfied: certifi>=2017.4.17 in /usr/local/lib/python3.10/dist-packages (from requests>=2.26->yfinance) (2022.12.7)\n",
            "Requirement already satisfied: charset-normalizer~=2.0.0 in /usr/local/lib/python3.10/dist-packages (from requests>=2.26->yfinance) (2.0.12)\n",
            "Requirement already satisfied: idna<4,>=2.5 in /usr/local/lib/python3.10/dist-packages (from requests>=2.26->yfinance) (3.4)\n",
            "Requirement already satisfied: pycparser in /usr/local/lib/python3.10/dist-packages (from cffi>=1.12->cryptography>=3.3.2->yfinance) (2.21)\n"
          ]
        }
      ],
      "source": [
        "!pip install yfinance\n",
        "import yfinance as yf\n",
        "import pandas as pd\n",
        "import numpy as np\n",
        "import math\n",
        "from matplotlib import pyplot as plt\n",
        "import matplotlib.dates as mdates\n",
        "import matplotlib.patches as mpatches\n",
        "from matplotlib.lines import Line2D\n",
        "\n",
        "import tensorflow as tf\n",
        "from tensorflow import keras\n",
        "from keras.models import Sequential, Model, load_model\n",
        "from keras.layers import Dense, Dropout, LSTM, Input, RepeatVector, TimeDistributed, Flatten\n",
        "from tensorflow.python.keras.callbacks import EarlyStopping, ModelCheckpoint\n",
        "from tensorflow.keras.layers import Conv1D, LSTM, Dense, Dropout, BatchNormalization\n",
        "\n",
        "\n",
        "from sklearn.preprocessing import MinMaxScaler, StandardScaler"
      ]
    },
    {
      "cell_type": "markdown",
      "metadata": {
        "id": "kvIPSm5MHe5B"
      },
      "source": [
        "## Dataset"
      ]
    },
    {
      "cell_type": "markdown",
      "metadata": {
        "id": "LtonhFULHe5C"
      },
      "source": [
        "### Importing Dataset"
      ]
    },
    {
      "cell_type": "code",
      "execution_count": null,
      "metadata": {
        "colab": {
          "base_uri": "https://localhost:8080/",
          "height": 411
        },
        "id": "KE2NQm9brTOd",
        "outputId": "be2c9136-829e-41c8-9266-7fd56e124104"
      },
      "outputs": [
        {
          "output_type": "stream",
          "name": "stdout",
          "text": [
            "\r[*********************100%***********************]  1 of 1 completed\n"
          ]
        },
        {
          "output_type": "execute_result",
          "data": {
            "text/plain": [
              "            Open      High       Low     Close  Adj Close  Volume\n",
              "Date                                                             \n",
              "1962-01-02   0.0  0.223380  0.222222  0.223380   0.065487       0\n",
              "1962-01-03   0.0  0.221065  0.219907  0.219907   0.064469  345600\n",
              "1962-01-04   0.0  0.221065  0.217593  0.217593   0.063790  216000\n",
              "1962-01-05   0.0  0.215856  0.214120  0.214120   0.062772  129600\n",
              "1962-01-08   0.0  0.212384  0.210648  0.210648   0.061754  172800\n",
              "1962-01-09   0.0  0.212963  0.212963  0.212963   0.062433   43200\n",
              "1962-01-10   0.0  0.217593  0.214699  0.217593   0.063790  172800\n",
              "1962-01-11   0.0  0.217593  0.216435  0.216435   0.063451  172800\n",
              "1962-01-12   0.0  0.217593  0.214120  0.214120   0.062772  259200\n",
              "1962-01-15   0.0  0.215856  0.214120  0.214120   0.062772  129600"
            ],
            "text/html": [
              "\n",
              "  <div id=\"df-339f9fb8-5544-44d7-b143-f2d0bb0b736d\">\n",
              "    <div class=\"colab-df-container\">\n",
              "      <div>\n",
              "<style scoped>\n",
              "    .dataframe tbody tr th:only-of-type {\n",
              "        vertical-align: middle;\n",
              "    }\n",
              "\n",
              "    .dataframe tbody tr th {\n",
              "        vertical-align: top;\n",
              "    }\n",
              "\n",
              "    .dataframe thead th {\n",
              "        text-align: right;\n",
              "    }\n",
              "</style>\n",
              "<table border=\"1\" class=\"dataframe\">\n",
              "  <thead>\n",
              "    <tr style=\"text-align: right;\">\n",
              "      <th></th>\n",
              "      <th>Open</th>\n",
              "      <th>High</th>\n",
              "      <th>Low</th>\n",
              "      <th>Close</th>\n",
              "      <th>Adj Close</th>\n",
              "      <th>Volume</th>\n",
              "    </tr>\n",
              "    <tr>\n",
              "      <th>Date</th>\n",
              "      <th></th>\n",
              "      <th></th>\n",
              "      <th></th>\n",
              "      <th></th>\n",
              "      <th></th>\n",
              "      <th></th>\n",
              "    </tr>\n",
              "  </thead>\n",
              "  <tbody>\n",
              "    <tr>\n",
              "      <th>1962-01-02</th>\n",
              "      <td>0.0</td>\n",
              "      <td>0.223380</td>\n",
              "      <td>0.222222</td>\n",
              "      <td>0.223380</td>\n",
              "      <td>0.065487</td>\n",
              "      <td>0</td>\n",
              "    </tr>\n",
              "    <tr>\n",
              "      <th>1962-01-03</th>\n",
              "      <td>0.0</td>\n",
              "      <td>0.221065</td>\n",
              "      <td>0.219907</td>\n",
              "      <td>0.219907</td>\n",
              "      <td>0.064469</td>\n",
              "      <td>345600</td>\n",
              "    </tr>\n",
              "    <tr>\n",
              "      <th>1962-01-04</th>\n",
              "      <td>0.0</td>\n",
              "      <td>0.221065</td>\n",
              "      <td>0.217593</td>\n",
              "      <td>0.217593</td>\n",
              "      <td>0.063790</td>\n",
              "      <td>216000</td>\n",
              "    </tr>\n",
              "    <tr>\n",
              "      <th>1962-01-05</th>\n",
              "      <td>0.0</td>\n",
              "      <td>0.215856</td>\n",
              "      <td>0.214120</td>\n",
              "      <td>0.214120</td>\n",
              "      <td>0.062772</td>\n",
              "      <td>129600</td>\n",
              "    </tr>\n",
              "    <tr>\n",
              "      <th>1962-01-08</th>\n",
              "      <td>0.0</td>\n",
              "      <td>0.212384</td>\n",
              "      <td>0.210648</td>\n",
              "      <td>0.210648</td>\n",
              "      <td>0.061754</td>\n",
              "      <td>172800</td>\n",
              "    </tr>\n",
              "    <tr>\n",
              "      <th>1962-01-09</th>\n",
              "      <td>0.0</td>\n",
              "      <td>0.212963</td>\n",
              "      <td>0.212963</td>\n",
              "      <td>0.212963</td>\n",
              "      <td>0.062433</td>\n",
              "      <td>43200</td>\n",
              "    </tr>\n",
              "    <tr>\n",
              "      <th>1962-01-10</th>\n",
              "      <td>0.0</td>\n",
              "      <td>0.217593</td>\n",
              "      <td>0.214699</td>\n",
              "      <td>0.217593</td>\n",
              "      <td>0.063790</td>\n",
              "      <td>172800</td>\n",
              "    </tr>\n",
              "    <tr>\n",
              "      <th>1962-01-11</th>\n",
              "      <td>0.0</td>\n",
              "      <td>0.217593</td>\n",
              "      <td>0.216435</td>\n",
              "      <td>0.216435</td>\n",
              "      <td>0.063451</td>\n",
              "      <td>172800</td>\n",
              "    </tr>\n",
              "    <tr>\n",
              "      <th>1962-01-12</th>\n",
              "      <td>0.0</td>\n",
              "      <td>0.217593</td>\n",
              "      <td>0.214120</td>\n",
              "      <td>0.214120</td>\n",
              "      <td>0.062772</td>\n",
              "      <td>259200</td>\n",
              "    </tr>\n",
              "    <tr>\n",
              "      <th>1962-01-15</th>\n",
              "      <td>0.0</td>\n",
              "      <td>0.215856</td>\n",
              "      <td>0.214120</td>\n",
              "      <td>0.214120</td>\n",
              "      <td>0.062772</td>\n",
              "      <td>129600</td>\n",
              "    </tr>\n",
              "  </tbody>\n",
              "</table>\n",
              "</div>\n",
              "      <button class=\"colab-df-convert\" onclick=\"convertToInteractive('df-339f9fb8-5544-44d7-b143-f2d0bb0b736d')\"\n",
              "              title=\"Convert this dataframe to an interactive table.\"\n",
              "              style=\"display:none;\">\n",
              "        \n",
              "  <svg xmlns=\"http://www.w3.org/2000/svg\" height=\"24px\"viewBox=\"0 0 24 24\"\n",
              "       width=\"24px\">\n",
              "    <path d=\"M0 0h24v24H0V0z\" fill=\"none\"/>\n",
              "    <path d=\"M18.56 5.44l.94 2.06.94-2.06 2.06-.94-2.06-.94-.94-2.06-.94 2.06-2.06.94zm-11 1L8.5 8.5l.94-2.06 2.06-.94-2.06-.94L8.5 2.5l-.94 2.06-2.06.94zm10 10l.94 2.06.94-2.06 2.06-.94-2.06-.94-.94-2.06-.94 2.06-2.06.94z\"/><path d=\"M17.41 7.96l-1.37-1.37c-.4-.4-.92-.59-1.43-.59-.52 0-1.04.2-1.43.59L10.3 9.45l-7.72 7.72c-.78.78-.78 2.05 0 2.83L4 21.41c.39.39.9.59 1.41.59.51 0 1.02-.2 1.41-.59l7.78-7.78 2.81-2.81c.8-.78.8-2.07 0-2.86zM5.41 20L4 18.59l7.72-7.72 1.47 1.35L5.41 20z\"/>\n",
              "  </svg>\n",
              "      </button>\n",
              "      \n",
              "  <style>\n",
              "    .colab-df-container {\n",
              "      display:flex;\n",
              "      flex-wrap:wrap;\n",
              "      gap: 12px;\n",
              "    }\n",
              "\n",
              "    .colab-df-convert {\n",
              "      background-color: #E8F0FE;\n",
              "      border: none;\n",
              "      border-radius: 50%;\n",
              "      cursor: pointer;\n",
              "      display: none;\n",
              "      fill: #1967D2;\n",
              "      height: 32px;\n",
              "      padding: 0 0 0 0;\n",
              "      width: 32px;\n",
              "    }\n",
              "\n",
              "    .colab-df-convert:hover {\n",
              "      background-color: #E2EBFA;\n",
              "      box-shadow: 0px 1px 2px rgba(60, 64, 67, 0.3), 0px 1px 3px 1px rgba(60, 64, 67, 0.15);\n",
              "      fill: #174EA6;\n",
              "    }\n",
              "\n",
              "    [theme=dark] .colab-df-convert {\n",
              "      background-color: #3B4455;\n",
              "      fill: #D2E3FC;\n",
              "    }\n",
              "\n",
              "    [theme=dark] .colab-df-convert:hover {\n",
              "      background-color: #434B5C;\n",
              "      box-shadow: 0px 1px 3px 1px rgba(0, 0, 0, 0.15);\n",
              "      filter: drop-shadow(0px 1px 2px rgba(0, 0, 0, 0.3));\n",
              "      fill: #FFFFFF;\n",
              "    }\n",
              "  </style>\n",
              "\n",
              "      <script>\n",
              "        const buttonEl =\n",
              "          document.querySelector('#df-339f9fb8-5544-44d7-b143-f2d0bb0b736d button.colab-df-convert');\n",
              "        buttonEl.style.display =\n",
              "          google.colab.kernel.accessAllowed ? 'block' : 'none';\n",
              "\n",
              "        async function convertToInteractive(key) {\n",
              "          const element = document.querySelector('#df-339f9fb8-5544-44d7-b143-f2d0bb0b736d');\n",
              "          const dataTable =\n",
              "            await google.colab.kernel.invokeFunction('convertToInteractive',\n",
              "                                                     [key], {});\n",
              "          if (!dataTable) return;\n",
              "\n",
              "          const docLinkHtml = 'Like what you see? Visit the ' +\n",
              "            '<a target=\"_blank\" href=https://colab.research.google.com/notebooks/data_table.ipynb>data table notebook</a>'\n",
              "            + ' to learn more about interactive tables.';\n",
              "          element.innerHTML = '';\n",
              "          dataTable['output_type'] = 'display_data';\n",
              "          await google.colab.output.renderOutput(dataTable, element);\n",
              "          const docLink = document.createElement('div');\n",
              "          docLink.innerHTML = docLinkHtml;\n",
              "          element.appendChild(docLink);\n",
              "        }\n",
              "      </script>\n",
              "    </div>\n",
              "  </div>\n",
              "  "
            ]
          },
          "metadata": {},
          "execution_count": 7
        }
      ],
      "source": [
        "# Downloading the data\n",
        "stock_name = 'JNJ'\n",
        "aapl_df = yf.download(stock_name)\n",
        "aapl_df.head(10)"
      ]
    },
    {
      "cell_type": "markdown",
      "metadata": {
        "id": "GgY88okPHe5E"
      },
      "source": [
        "### Data Preprocessing"
      ]
    },
    {
      "cell_type": "code",
      "execution_count": null,
      "metadata": {
        "colab": {
          "base_uri": "https://localhost:8080/",
          "height": 324
        },
        "id": "OKGd_ccErfOy",
        "outputId": "07a9b688-65c4-4c15-c8c5-a80b5cd6e61e"
      },
      "outputs": [
        {
          "output_type": "stream",
          "name": "stderr",
          "text": [
            "<ipython-input-8-9060654c1949>:6: SettingWithCopyWarning: \n",
            "A value is trying to be set on a copy of a slice from a DataFrame\n",
            "\n",
            "See the caveats in the documentation: https://pandas.pydata.org/pandas-docs/stable/user_guide/indexing.html#returning-a-view-versus-a-copy\n",
            "  aapl_df.drop('Adj Close', axis=1, inplace=True)\n"
          ]
        },
        {
          "output_type": "execute_result",
          "data": {
            "text/plain": [
              "            Open      High       Low     Close  Volume  Prediction\n",
              "Date                                                              \n",
              "1962-01-02   0.0  0.223380  0.222222  0.223380       0    0.219907\n",
              "1962-01-03   0.0  0.221065  0.219907  0.219907  345600    0.217593\n",
              "1962-01-04   0.0  0.221065  0.217593  0.217593  216000    0.214120\n",
              "1962-01-05   0.0  0.215856  0.214120  0.214120  129600    0.210648\n",
              "1962-01-08   0.0  0.212384  0.210648  0.210648  172800    0.212963"
            ],
            "text/html": [
              "\n",
              "  <div id=\"df-a7304422-68ec-4beb-af26-23e9e340b001\">\n",
              "    <div class=\"colab-df-container\">\n",
              "      <div>\n",
              "<style scoped>\n",
              "    .dataframe tbody tr th:only-of-type {\n",
              "        vertical-align: middle;\n",
              "    }\n",
              "\n",
              "    .dataframe tbody tr th {\n",
              "        vertical-align: top;\n",
              "    }\n",
              "\n",
              "    .dataframe thead th {\n",
              "        text-align: right;\n",
              "    }\n",
              "</style>\n",
              "<table border=\"1\" class=\"dataframe\">\n",
              "  <thead>\n",
              "    <tr style=\"text-align: right;\">\n",
              "      <th></th>\n",
              "      <th>Open</th>\n",
              "      <th>High</th>\n",
              "      <th>Low</th>\n",
              "      <th>Close</th>\n",
              "      <th>Volume</th>\n",
              "      <th>Prediction</th>\n",
              "    </tr>\n",
              "    <tr>\n",
              "      <th>Date</th>\n",
              "      <th></th>\n",
              "      <th></th>\n",
              "      <th></th>\n",
              "      <th></th>\n",
              "      <th></th>\n",
              "      <th></th>\n",
              "    </tr>\n",
              "  </thead>\n",
              "  <tbody>\n",
              "    <tr>\n",
              "      <th>1962-01-02</th>\n",
              "      <td>0.0</td>\n",
              "      <td>0.223380</td>\n",
              "      <td>0.222222</td>\n",
              "      <td>0.223380</td>\n",
              "      <td>0</td>\n",
              "      <td>0.219907</td>\n",
              "    </tr>\n",
              "    <tr>\n",
              "      <th>1962-01-03</th>\n",
              "      <td>0.0</td>\n",
              "      <td>0.221065</td>\n",
              "      <td>0.219907</td>\n",
              "      <td>0.219907</td>\n",
              "      <td>345600</td>\n",
              "      <td>0.217593</td>\n",
              "    </tr>\n",
              "    <tr>\n",
              "      <th>1962-01-04</th>\n",
              "      <td>0.0</td>\n",
              "      <td>0.221065</td>\n",
              "      <td>0.217593</td>\n",
              "      <td>0.217593</td>\n",
              "      <td>216000</td>\n",
              "      <td>0.214120</td>\n",
              "    </tr>\n",
              "    <tr>\n",
              "      <th>1962-01-05</th>\n",
              "      <td>0.0</td>\n",
              "      <td>0.215856</td>\n",
              "      <td>0.214120</td>\n",
              "      <td>0.214120</td>\n",
              "      <td>129600</td>\n",
              "      <td>0.210648</td>\n",
              "    </tr>\n",
              "    <tr>\n",
              "      <th>1962-01-08</th>\n",
              "      <td>0.0</td>\n",
              "      <td>0.212384</td>\n",
              "      <td>0.210648</td>\n",
              "      <td>0.210648</td>\n",
              "      <td>172800</td>\n",
              "      <td>0.212963</td>\n",
              "    </tr>\n",
              "  </tbody>\n",
              "</table>\n",
              "</div>\n",
              "      <button class=\"colab-df-convert\" onclick=\"convertToInteractive('df-a7304422-68ec-4beb-af26-23e9e340b001')\"\n",
              "              title=\"Convert this dataframe to an interactive table.\"\n",
              "              style=\"display:none;\">\n",
              "        \n",
              "  <svg xmlns=\"http://www.w3.org/2000/svg\" height=\"24px\"viewBox=\"0 0 24 24\"\n",
              "       width=\"24px\">\n",
              "    <path d=\"M0 0h24v24H0V0z\" fill=\"none\"/>\n",
              "    <path d=\"M18.56 5.44l.94 2.06.94-2.06 2.06-.94-2.06-.94-.94-2.06-.94 2.06-2.06.94zm-11 1L8.5 8.5l.94-2.06 2.06-.94-2.06-.94L8.5 2.5l-.94 2.06-2.06.94zm10 10l.94 2.06.94-2.06 2.06-.94-2.06-.94-.94-2.06-.94 2.06-2.06.94z\"/><path d=\"M17.41 7.96l-1.37-1.37c-.4-.4-.92-.59-1.43-.59-.52 0-1.04.2-1.43.59L10.3 9.45l-7.72 7.72c-.78.78-.78 2.05 0 2.83L4 21.41c.39.39.9.59 1.41.59.51 0 1.02-.2 1.41-.59l7.78-7.78 2.81-2.81c.8-.78.8-2.07 0-2.86zM5.41 20L4 18.59l7.72-7.72 1.47 1.35L5.41 20z\"/>\n",
              "  </svg>\n",
              "      </button>\n",
              "      \n",
              "  <style>\n",
              "    .colab-df-container {\n",
              "      display:flex;\n",
              "      flex-wrap:wrap;\n",
              "      gap: 12px;\n",
              "    }\n",
              "\n",
              "    .colab-df-convert {\n",
              "      background-color: #E8F0FE;\n",
              "      border: none;\n",
              "      border-radius: 50%;\n",
              "      cursor: pointer;\n",
              "      display: none;\n",
              "      fill: #1967D2;\n",
              "      height: 32px;\n",
              "      padding: 0 0 0 0;\n",
              "      width: 32px;\n",
              "    }\n",
              "\n",
              "    .colab-df-convert:hover {\n",
              "      background-color: #E2EBFA;\n",
              "      box-shadow: 0px 1px 2px rgba(60, 64, 67, 0.3), 0px 1px 3px 1px rgba(60, 64, 67, 0.15);\n",
              "      fill: #174EA6;\n",
              "    }\n",
              "\n",
              "    [theme=dark] .colab-df-convert {\n",
              "      background-color: #3B4455;\n",
              "      fill: #D2E3FC;\n",
              "    }\n",
              "\n",
              "    [theme=dark] .colab-df-convert:hover {\n",
              "      background-color: #434B5C;\n",
              "      box-shadow: 0px 1px 3px 1px rgba(0, 0, 0, 0.15);\n",
              "      filter: drop-shadow(0px 1px 2px rgba(0, 0, 0, 0.3));\n",
              "      fill: #FFFFFF;\n",
              "    }\n",
              "  </style>\n",
              "\n",
              "      <script>\n",
              "        const buttonEl =\n",
              "          document.querySelector('#df-a7304422-68ec-4beb-af26-23e9e340b001 button.colab-df-convert');\n",
              "        buttonEl.style.display =\n",
              "          google.colab.kernel.accessAllowed ? 'block' : 'none';\n",
              "\n",
              "        async function convertToInteractive(key) {\n",
              "          const element = document.querySelector('#df-a7304422-68ec-4beb-af26-23e9e340b001');\n",
              "          const dataTable =\n",
              "            await google.colab.kernel.invokeFunction('convertToInteractive',\n",
              "                                                     [key], {});\n",
              "          if (!dataTable) return;\n",
              "\n",
              "          const docLinkHtml = 'Like what you see? Visit the ' +\n",
              "            '<a target=\"_blank\" href=https://colab.research.google.com/notebooks/data_table.ipynb>data table notebook</a>'\n",
              "            + ' to learn more about interactive tables.';\n",
              "          element.innerHTML = '';\n",
              "          dataTable['output_type'] = 'display_data';\n",
              "          await google.colab.output.renderOutput(dataTable, element);\n",
              "          const docLink = document.createElement('div');\n",
              "          docLink.innerHTML = docLinkHtml;\n",
              "          element.appendChild(docLink);\n",
              "        }\n",
              "      </script>\n",
              "    </div>\n",
              "  </div>\n",
              "  "
            ]
          },
          "metadata": {},
          "execution_count": 8
        }
      ],
      "source": [
        "# Adding a column 'Prediction' which is shifted by 1 day\n",
        "aapl_df['Prediction'] = aapl_df['Close'].shift(-1)\n",
        "\n",
        "# Removing NA values\n",
        "aapl_df = aapl_df.dropna()\n",
        "aapl_df.drop('Adj Close', axis=1, inplace=True)\n",
        "\n",
        "aapl_df.head()"
      ]
    },
    {
      "cell_type": "code",
      "execution_count": null,
      "metadata": {
        "id": "K2wTCmrirh5n"
      },
      "outputs": [],
      "source": [
        "# Extract dates for the test dataset\n",
        "x_date = aapl_df.index[-math.floor(len(aapl_df) * 0.2):]"
      ]
    },
    {
      "cell_type": "code",
      "execution_count": null,
      "metadata": {
        "id": "aQOzZRV-rk5M"
      },
      "outputs": [],
      "source": [
        "in_scaler = MinMaxScaler()\n",
        "out_scaler = MinMaxScaler()\n",
        "\n",
        "# Scaling the data\n",
        "x = in_scaler.fit_transform(aapl_df.drop(['Prediction'], axis=1))\n",
        "# y = out_scaler.fit_transform(aapl_df.drop(\n",
        "#     ['Open', 'High', 'Low', 'Close', 'Volume', 'Adj Close'], axis=1))\n",
        "y = out_scaler.fit_transform(aapl_df.drop(\n",
        "    ['Open', 'High', 'Low', 'Close', 'Volume'], axis=1))"
      ]
    },
    {
      "cell_type": "markdown",
      "metadata": {
        "id": "PVl-YHGwHe5G"
      },
      "source": [
        "### Creating Dataset"
      ]
    },
    {
      "cell_type": "code",
      "execution_count": null,
      "metadata": {
        "id": "bGY9yXXJrm7u"
      },
      "outputs": [],
      "source": [
        "sequence_length = 42\n",
        "train_len = math.ceil(len(aapl_df) * 0.6)\n",
        "val_len = math.ceil(len(aapl_df) * 0.2)\n",
        "\n",
        "# Splitting the data into train, validation and test dataset\n",
        "x_train = x[:train_len, :]\n",
        "y_train = y[:train_len, :]\n",
        "\n",
        "x_val = x[train_len - sequence_length:train_len + val_len, :]\n",
        "y_val = y[train_len - sequence_length:train_len + val_len, :]\n",
        "\n",
        "x_test = x[train_len + val_len - sequence_length:, :]\n",
        "y_test = y[train_len + val_len - sequence_length:, :]"
      ]
    },
    {
      "cell_type": "code",
      "execution_count": null,
      "metadata": {
        "id": "m_0Hv6nWrpQw"
      },
      "outputs": [],
      "source": [
        "def create_dataset(x, y, sequence_length):\n",
        "    x_data = []\n",
        "    y_data = []\n",
        "    for i in range(sequence_length, len(x)):\n",
        "        x_data.append(x[i - sequence_length:i, :])\n",
        "        y_data.append(y[i, :])\n",
        "    return np.array(x_data), np.array(y_data)\n",
        "\n",
        "\n",
        "# Creating the dataset\n",
        "x_train, y_train = create_dataset(x_train, y_train, sequence_length)\n",
        "x_val, y_val = create_dataset(x_val, y_val, sequence_length)\n",
        "x_test, y_test = create_dataset(x_test, y_test, sequence_length)"
      ]
    },
    {
      "cell_type": "markdown",
      "metadata": {
        "id": "ZD2CMrsZHe5I"
      },
      "source": [
        "## Model Building and Training"
      ]
    },
    {
      "cell_type": "code",
      "execution_count": null,
      "metadata": {
        "id": "QsmYr6MNrrJO"
      },
      "outputs": [],
      "source": [
        "def CNNLSTM():\n",
        "  model = Sequential()\n",
        "  # Model with n_neurons = inputshape Timestamps, each with x_train.shape[2] variables\n",
        "  n_neurons = x_train.shape[1] * x_train.shape[2]\n",
        "  print(n_neurons, x_train.shape[1], x_train.shape[2])\n",
        "  model.add(Conv1D(filters=n_neurons, kernel_size=3, activation='relu', input_shape=(sequence_length, x_train.shape[2])))\n",
        "  # model.add(LSTM(n_neurons, return_sequences=True, input_shape=(x_train.shape[1], x_train.shape[2])))\n",
        "  model.add(LSTM(units=n_neurons, return_sequences=True))\n",
        "  # model.add(Dropout(0.2))\n",
        "  model.add(LSTM(units=n_neurons))\n",
        "  model.add(Dense(6))\n",
        "  model.add(Dense(1))\n",
        "  # Compile the model\n",
        "  model.compile(optimizer=keras.optimizers.Adam(learning_rate=0.00001), loss='mse')\n",
        "  return model"
      ]
    },
    {
      "cell_type": "code",
      "source": [
        "# def CNNLSTM():\n",
        "#     model = Sequential()\n",
        "#     n_neurons = x_train.shape[1] * x_train.shape[2]\n",
        "\n",
        "#     # Convolutional layer\n",
        "#     model.add(Conv1D(filters=n_neurons, kernel_size=3, activation='relu', input_shape=(sequence_length, x_train.shape[2])))\n",
        "#     # model.add(BatchNormalization())\n",
        "\n",
        "#     # LSTM layers\n",
        "#     model.add(LSTM(units=n_neurons, return_sequences=True))\n",
        "#     # model.add(Dropout(0.2))\n",
        "#     model.add(LSTM(units=n_neurons))\n",
        "\n",
        "#     # Dense layers\n",
        "#     model.add(Dense(6, activation='relu'))\n",
        "#     model.add(Dropout(0.2))\n",
        "#     model.add(Dense(1))\n",
        "\n",
        "#     # Compile the model\n",
        "#     model.compile(optimizer=keras.optimizers.Adam(learning_rate=0.00001), loss='mse')\n",
        "\n",
        "#     return model"
      ],
      "metadata": {
        "id": "zNgcNpWCEhCT"
      },
      "execution_count": null,
      "outputs": []
    },
    {
      "cell_type": "code",
      "execution_count": null,
      "metadata": {
        "colab": {
          "base_uri": "https://localhost:8080/"
        },
        "id": "-izursF8rx6R",
        "outputId": "51546a50-b192-4b41-d260-6fb93a09ec32"
      },
      "outputs": [
        {
          "output_type": "stream",
          "name": "stdout",
          "text": [
            "210 42 5\n",
            "Model: \"sequential_12\"\n",
            "_________________________________________________________________\n",
            " Layer (type)                Output Shape              Param #   \n",
            "=================================================================\n",
            " conv1d_12 (Conv1D)          (None, 40, 210)           3360      \n",
            "                                                                 \n",
            " lstm_24 (LSTM)              (None, 40, 210)           353640    \n",
            "                                                                 \n",
            " lstm_25 (LSTM)              (None, 210)               353640    \n",
            "                                                                 \n",
            " dense_24 (Dense)            (None, 6)                 1266      \n",
            "                                                                 \n",
            " dense_25 (Dense)            (None, 1)                 7         \n",
            "                                                                 \n",
            "=================================================================\n",
            "Total params: 711,913\n",
            "Trainable params: 711,913\n",
            "Non-trainable params: 0\n",
            "_________________________________________________________________\n"
          ]
        }
      ],
      "source": [
        "model = CNNLSTM()\n",
        "model.summary()"
      ]
    },
    {
      "cell_type": "code",
      "execution_count": null,
      "metadata": {
        "id": "PCnjmc50r0CF"
      },
      "outputs": [],
      "source": [
        "# early_stopping = EarlyStopping(monitor='val_loss', patience=5, verbose=1)\n",
        "# checkpoint = ModelCheckpoint('cnnlstm.h5',\n",
        "#                              monitor='val_loss', verbose=1, save_best_only=True, mode='auto')\n",
        "\n",
        "# epochs = 100\n",
        "# batch_size = 16\n",
        "\n",
        "# history = model.fit(\n",
        "#     x_train, y_train,\n",
        "#     epochs=epochs,\n",
        "#     batch_size=batch_size,\n",
        "#     validation_data=(x_val, y_val),\n",
        "#     callbacks=[early_stopping, checkpoint],\n",
        "# )"
      ]
    },
    {
      "cell_type": "markdown",
      "metadata": {
        "id": "iZqMyCUfHe5L"
      },
      "source": [
        "## Model Evaluation"
      ]
    },
    {
      "cell_type": "code",
      "execution_count": null,
      "metadata": {
        "id": "k6xKHWZoyUA_",
        "colab": {
          "base_uri": "https://localhost:8080/"
        },
        "outputId": "9673944d-9aea-46ac-95dc-b25be9b49523"
      },
      "outputs": [
        {
          "output_type": "stream",
          "name": "stdout",
          "text": [
            "210 42 5\n"
          ]
        }
      ],
      "source": [
        "model = CNNLSTM()\n",
        "try:\n",
        "  model.load_weights('CNNLSTM_AAPL.h5')\n",
        "except Exception as e:\n",
        "  print(e)\n",
        "  model.load_weights('cnnlstm.h5')"
      ]
    },
    {
      "cell_type": "code",
      "source": [
        "# !pip install tf-explain\n",
        "# !pip install opencv-python"
      ],
      "metadata": {
        "id": "ZOIt_7f72Egq"
      },
      "execution_count": null,
      "outputs": []
    },
    {
      "cell_type": "code",
      "source": [
        "# from tf_explain.callbacks.integrated_gradients import IntegratedGradientsCallback\n",
        "\n",
        "# # Define the IntegratedGradientsCallback with class_index=0\n",
        "# integrated_gradients_callback = IntegratedGradientsCallback(validation_data=(x_val, y_val), class_index=0)\n",
        "\n",
        "# # Train the model with the IntegratedGradientsCallback\n",
        "# model.fit(x_train, y_train, validation_data=(x_val, y_val), callbacks=[integrated_gradients_callback])\n"
      ],
      "metadata": {
        "id": "3bklySs863vS"
      },
      "execution_count": null,
      "outputs": []
    },
    {
      "cell_type": "code",
      "source": [
        "predicitons = model.predict(x_test)\n",
        "predicitons.shape"
      ],
      "metadata": {
        "id": "n27D21PVMpxn",
        "colab": {
          "base_uri": "https://localhost:8080/"
        },
        "outputId": "44520d75-d94b-4d2b-8f51-fd9f19b99036"
      },
      "execution_count": null,
      "outputs": [
        {
          "output_type": "stream",
          "name": "stdout",
          "text": [
            "83/83 [==============================] - 1s 5ms/step\n"
          ]
        },
        {
          "output_type": "execute_result",
          "data": {
            "text/plain": [
              "(2641, 1)"
            ]
          },
          "metadata": {},
          "execution_count": 118
        }
      ]
    },
    {
      "cell_type": "code",
      "execution_count": null,
      "metadata": {
        "id": "jRubbH4itJy3",
        "colab": {
          "base_uri": "https://localhost:8080/"
        },
        "outputId": "d7105d30-b145-4ea6-cd4d-351548253642"
      },
      "outputs": [
        {
          "output_type": "stream",
          "name": "stdout",
          "text": [
            "83/83 [==============================] - 0s 4ms/step\n",
            "Mean Squared Error:  100748.72144106496\n",
            "Root Mean Squared Error:  317.40939091505305\n",
            "Mean Absolute Error:  256.8128519285723\n",
            "Mean Absolute Percentage Error:  3.394090527925248\n"
          ]
        }
      ],
      "source": [
        "predictions = model.predict(x_test)\n",
        "predictions = out_scaler.inverse_transform(predictions)\n",
        "actual = out_scaler.inverse_transform(y_test)\n",
        "\n",
        "# Calculating the error\n",
        "error = predictions - actual\n",
        "mse = np.square(error).mean()\n",
        "rmse = np.sqrt(mse)\n",
        "mae = np.abs(error).mean()\n",
        "mape = np.abs(error / actual).mean() * 100\n",
        "\n",
        "# Printing the error\n",
        "print('Mean Squared Error: ', mse)\n",
        "print('Root Mean Squared Error: ', rmse)\n",
        "print('Mean Absolute Error: ', mae)\n",
        "print('Mean Absolute Percentage Error: ', mape)"
      ]
    },
    {
      "cell_type": "markdown",
      "metadata": {
        "id": "blNLWJpjHe5M"
      },
      "source": [
        "## Model Prediction and Visualization"
      ]
    },
    {
      "cell_type": "code",
      "source": [
        "actual.flatten().shape"
      ],
      "metadata": {
        "id": "Q9QioJfpn7Sx",
        "colab": {
          "base_uri": "https://localhost:8080/"
        },
        "outputId": "73be8e4e-ddd0-4de1-ebd6-4320f80102e4"
      },
      "execution_count": null,
      "outputs": [
        {
          "output_type": "execute_result",
          "data": {
            "text/plain": [
              "(2641,)"
            ]
          },
          "metadata": {},
          "execution_count": 120
        }
      ]
    },
    {
      "cell_type": "code",
      "source": [
        "predictions.flatten().shape"
      ],
      "metadata": {
        "id": "xFgFR0G4n-rv",
        "colab": {
          "base_uri": "https://localhost:8080/"
        },
        "outputId": "81729cb7-f0c8-47f5-cf74-a865eb79f57f"
      },
      "execution_count": null,
      "outputs": [
        {
          "output_type": "execute_result",
          "data": {
            "text/plain": [
              "(2641,)"
            ]
          },
          "metadata": {},
          "execution_count": 121
        }
      ]
    },
    {
      "cell_type": "code",
      "source": [
        "x_date.shape"
      ],
      "metadata": {
        "id": "1VJ_aseioNHU",
        "colab": {
          "base_uri": "https://localhost:8080/"
        },
        "outputId": "c40aaf74-4e30-422e-da44-d67b2dd6a3fe"
      },
      "execution_count": null,
      "outputs": [
        {
          "output_type": "execute_result",
          "data": {
            "text/plain": [
              "(2641,)"
            ]
          },
          "metadata": {},
          "execution_count": 122
        }
      ]
    },
    {
      "cell_type": "code",
      "execution_count": null,
      "metadata": {
        "id": "gUxNdp-LsdAV",
        "colab": {
          "base_uri": "https://localhost:8080/",
          "height": 653
        },
        "outputId": "c180a900-4044-4186-ebbc-3c8fb2962026"
      },
      "outputs": [
        {
          "output_type": "display_data",
          "data": {
            "text/plain": [
              "<Figure size 1500x1000 with 1 Axes>"
            ],
            "image/png": "[encoded data removed]"
          },
          "metadata": {}
        }
      ],
      "source": [
        "# Creating a dataframe for the predictions, actual values and residuals\n",
        "prediction_df = pd.DataFrame({'Actual': actual.flatten(\n",
        "), 'Predicted': predictions.flatten(), 'Residuals': error.flatten()}, index=x_date[:])\n",
        "\n",
        "# Taking data from 2019-01-01\n",
        "predictions_df = prediction_df.loc['2019-01-01':]\n",
        "\n",
        "# Plotting the data and residuals bars in the same plot\n",
        "fig, ax = plt.subplots(figsize=(15, 10))\n",
        "ax.plot(predictions_df.index,\n",
        "        predictions_df['Actual'], label='Actual', color='#FFAD46', linewidth=1.5)\n",
        "ax.plot(predictions_df.index,\n",
        "        predictions_df['Predicted'], label='Predicted', color='#4285F4', linewidth=1.5)\n",
        "\n",
        "df_sub = [\"#0F9D58\" if x >\n",
        "          0 else \"#DB4437\" for x in predictions_df[\"Residuals\"].dropna()]\n",
        "ax.bar(predictions_df.index, predictions_df['Residuals'].dropna(\n",
        "), width=3, label='Residuals', color=df_sub)\n",
        "\n",
        "ax.set_xlabel('Date')\n",
        "ax.set_ylabel('Price')\n",
        "ax.set_title(f'{stock_name} Stock Price Prediction - CNNLSTM')\n",
        "\n",
        "Patch = mpatches.Patch\n",
        "legend_elements = [Line2D([0], [0], color='#FFAD46', lw=1.5, label='Actual'),\n",
        "                   Line2D([0], [0], color='#4285F4',\n",
        "                          lw=1.5, label='Predicted'),\n",
        "                   Patch(facecolor='#0F9D58', edgecolor='#0F9D58',\n",
        "                         label='Residuals - Positive'),\n",
        "                   Patch(facecolor='#DB4437', edgecolor='#DB4437', label='Residuals - Negative')]\n",
        "ax.legend(handles=legend_elements, loc='upper left')\n",
        "\n",
        "ax.grid(True)\n",
        "plt.show()"
      ]
    },
    {
      "cell_type": "code",
      "source": [
        "# model.save('mslstm_model.h5')"
      ],
      "metadata": {
        "id": "RwUDyQa0Q8lV"
      },
      "execution_count": null,
      "outputs": []
    },
    {
      "cell_type": "code",
      "source": [],
      "metadata": {
        "id": "zfq57S7UAbyg"
      },
      "execution_count": null,
      "outputs": []
    }
  ],
  "metadata": {
    "accelerator": "GPU",
    "colab": {
      "provenance": []
    },
    "gpuClass": "standard",
    "kernelspec": {
      "display_name": "Python 3 (ipykernel)",
      "language": "python",
      "name": "python3"
    },
    "language_info": {
      "codemirror_mode": {
        "name": "ipython",
        "version": 3
      },
      "file_extension": ".py",
      "mimetype": "text/x-python",
      "name": "python",
      "nbconvert_exporter": "python",
      "pygments_lexer": "ipython3",
      "version": "3.10.1"
    }
  },
  "nbformat": 4,
  "nbformat_minor": 0
}